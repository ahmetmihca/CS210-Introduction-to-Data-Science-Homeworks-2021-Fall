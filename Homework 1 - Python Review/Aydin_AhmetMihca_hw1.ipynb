{
  "nbformat": 4,
  "nbformat_minor": 0,
  "metadata": {
    "colab": {
      "name": "Aydin_Mihca_hw1.ipynb",
      "provenance": [],
      "collapsed_sections": []
    },
    "kernelspec": {
      "name": "python3",
      "display_name": "Python 3"
    }
  },
  "cells": [
    {
      "cell_type": "markdown",
      "metadata": {
        "id": "JD9gUM7WW8iT"
      },
      "source": [
        "# Homework 1 - Practicing Python\n",
        "\n",
        "\n",
        "*In the first homework, you are going to work on a set of Python exercises.*\n",
        "\n",
        "**Submission Instructions**\n",
        "\n",
        "---\n",
        "It is important that you follow the submission instructions. \n",
        "1. Copy this assignment notebook to your Drive. <font color = 'red'> `File` --> `Save a copy in Drive`</font>. Rename it as <font color = 'green'>`Lastname_Firstname_hw1`</font>.\n",
        "\n",
        "2. Write your solutions in the cells  marked <font color = 'green'>`# your code`</font>.\n",
        "\n",
        "3. Do not delete your outputs. They are essential for the grading. Make sure that cells containing your solutions are executed, and the results are displayed on the notebook.\n",
        "\n",
        "4. When you're done please submit your solutions as an <font color=\"red\">`.ipynb`</font> file. To do so:\n",
        "\n",
        "\n",
        "  a. Click on <font color=\"red\">`File`</font>  at the top left on the Colab screen, then click on <font color = 'red'>`Download .ipynb`</font>.\n",
        "\n",
        "  b. Then submit the downloaded <font color=\"red\">`.ipynb`</font> version of your work on SUCourse.\n",
        "\n",
        "\n",
        "For any question, you may send an email to the TAs and LAs.\n",
        "\n",
        "---\n",
        "\n",
        "**Important Note:**   \n",
        "In this homework, you do not need to use any libraries than the built-in ones. Hence, you are not allowed to use any libraries, other than the [`pprint`](https://docs.python.org/3/library/pprint.html) library to produce better looking outputs. If you have doubt on what to use what not to use please ask your question in the SuCourse Homework Q&A forum."
      ]
    },
    {
      "cell_type": "markdown",
      "metadata": {
        "id": "rYfw-eaiBOBJ"
      },
      "source": [
        "## 15 points - Q1: Find the Office Hour, Given the TA\n",
        "\n",
        "In the cell below, you have three lists containing the TA names and their day of office hour in the same order.\n",
        "\n",
        "Here, your goal is to write a fuction named `TA_day` that will return the day and hour of a particular TA. E.g.,\n",
        "\n",
        "```py\n",
        ">>> TA_day(TA_name='Ozgur Can Seckin')\n",
        "Tuesday, 17:40-18:30\n",
        "```\n",
        "\n",
        "After defining your function as such, please find the day and hour for **Mutlu Soruklu**"
      ]
    },
    {
      "cell_type": "code",
      "metadata": {
        "id": "_RCO6nIyEpv1"
      },
      "source": [
        "TA_names = ['Ege Alpay', 'Hasan Alp Boz', 'Mutlu Soruklu', 'Ozgur Can Seckin']\n",
        "office_days = ['Friday', 'Tuesday', 'Monday', 'Tuesday']\n",
        "office_hours = ['18:40 - 19:30', '9:40-10:30', '17:40 - 18:30', '17:40 - 18:30']"
      ],
      "execution_count": 14,
      "outputs": []
    },
    {
      "cell_type": "code",
      "metadata": {
        "id": "VsigiNj3FzgF",
        "colab": {
          "base_uri": "https://localhost:8080/"
        },
        "outputId": "226e644f-a745-4ffc-fc0f-928cb185f23f"
      },
      "source": [
        "# your code\n",
        "\n",
        "def TA_day (TA_name):\n",
        "    finderIndex = TA_names.index(TA_name)\n",
        "    return print(office_days[finderIndex], ', ', office_hours[finderIndex], sep = '') \n",
        "#TA_day(TA_name = 'Ege Alpay')\n",
        "TA_day(TA_name = 'Mutlu Soruklu')"
      ],
      "execution_count": 365,
      "outputs": [
        {
          "output_type": "stream",
          "name": "stdout",
          "text": [
            "Monday, 17:40 - 18:30\n"
          ]
        }
      ]
    },
    {
      "cell_type": "markdown",
      "metadata": {
        "id": "DwskSV1dAeoR"
      },
      "source": [
        "## 30 points - Q2: Inflation Rates\n",
        "\n",
        "Inflation rates measured by consumer price index for 38 distinct countries and OECD average were taken from:\n",
        "https://data.oecd.org/price/inflation-cpi.htm\n",
        "\n",
        "Each line stores the country name, year and related inflation rate, seperated by a **semicolon**.\n",
        "\n",
        "In total, we have 195 lines where the inflation rates are given for years between 2016 and 2020.\n",
        "\n",
        "\n",
        "<img src=\"https://i.ibb.co/bBzypPS/Q2-OECD.png\"></img>\n",
        "\n",
        "*Do not forget to add the shared file and then mount to your drive. Otherwise, you won't be able to read the file. If you do not know how, please go back to Week 1 videos.*\n",
        "\n",
        "**Attention: You may want to transform the string to numbers by using float() function**"
      ]
    },
    {
      "cell_type": "markdown",
      "metadata": {
        "id": "EJdIEenmj6W_"
      },
      "source": [
        "### 15 points - **Part A**\n",
        "In this part, you should - by using the inflation_data.csv file under assignment folder:\n",
        "1. Find the **mean inflation rates** for Turkey and Germany (denoted as TUR and DEU in the data, respectively) between years 2016 and 2020 and print the results.\n",
        "2. Calculate the **difference between means** and print the result.\n",
        "\n",
        "![](https://i.ibb.co/L0JTk8V/Q2-OECD.png)"
      ]
    },
    {
      "cell_type": "code",
      "metadata": {
        "id": "tbaryKClTz5Z",
        "colab": {
          "base_uri": "https://localhost:8080/"
        },
        "outputId": "9d6ab207-af6e-4f64-bd94-56713e14ee78"
      },
      "source": [
        "from google.colab import drive\n",
        "drive.mount(\"./drive/\", force_remount=True)"
      ],
      "execution_count": 203,
      "outputs": [
        {
          "output_type": "stream",
          "name": "stdout",
          "text": [
            "Mounted at ./drive/\n"
          ]
        }
      ]
    },
    {
      "cell_type": "code",
      "metadata": {
        "id": "NnRDeA3_SPi0",
        "colab": {
          "base_uri": "https://localhost:8080/"
        },
        "outputId": "199067c6-7038-418a-a9a7-f78ffa60f955"
      },
      "source": [
        "# your code\n",
        "#stats = {}\n",
        "columnNo = []\n",
        "info = []\n",
        "\n",
        "TR_TOTAL = 0\n",
        "TR_NO = 0\n",
        "\n",
        "GER_TOTAL = 0\n",
        "GER_NO = 0\n",
        "\n",
        "def meanFinder (total, no):\n",
        "    mean = total / no\n",
        "    return mean \n",
        "\n",
        "from os.path import join \n",
        "path_prefix = \"./drive/My Drive\"\n",
        "fname = \"inflation_data.csv\"\n",
        "with open(join(path_prefix, fname), \"r\") as f:\n",
        "    \n",
        "    columnNo = [line.strip() for line in f.readlines()]\n",
        "    for no in columnNo:\n",
        "        stats = no.split(';')\n",
        "        stats[1] = float(stats[1])\n",
        "        stats[2] = float(stats[2].replace(',','.'))\n",
        "        info.append(stats)\n",
        "\n",
        "for stats in info:\n",
        "    if stats[0] == 'TUR':\n",
        "        TR_TOTAL += stats[2]\n",
        "        TR_NO += 1 \n",
        "    if stats[0] == 'DEU':\n",
        "        GER_TOTAL += stats[2]\n",
        "        GER_NO += 1\n",
        "\n",
        "GER = (meanFinder(GER_TOTAL, GER_NO))\n",
        "TR = (meanFinder(TR_TOTAL, TR_NO))\n",
        "\n",
        "print('The mean inflation rate of Germany between the years 2016-2020 is: ', float(GER), \".\", sep = '')\n",
        "print('The mean inflation rate of Turkey between the years 2016-2020 is: ', float(TR), \".\", sep = '')\n",
        "print('The difference between mean inflation rates of Germany and Turkey is: ', float(TR-GER), \".\", sep = '')"
      ],
      "execution_count": 337,
      "outputs": [
        {
          "output_type": "stream",
          "name": "stdout",
          "text": [
            "The mean inflation rate of Germany between the years 2016-2020 is: 1.1371541.\n",
            "The mean inflation rate of Turkey between the years 2016-2020 is: 12.5415368.\n",
            "The difference between mean inflation rates of Germany and Turkey is: 11.4043827.\n"
          ]
        }
      ]
    },
    {
      "cell_type": "markdown",
      "metadata": {
        "id": "pIBUWMoXSSwr"
      },
      "source": [
        "### 15 points - **Part B**\n",
        "\n",
        "Find the country with the minimum mean inflation rate (note that it might be negative!)\n",
        "\n",
        "![](https://i.ibb.co/hBsTWvs/Q2-OECD-2.png)"
      ]
    },
    {
      "cell_type": "code",
      "metadata": {
        "id": "laBFy2HkSXpC",
        "colab": {
          "base_uri": "https://localhost:8080/"
        },
        "outputId": "62f85b8a-84d1-4486-e01b-a393c48a95a2"
      },
      "source": [
        "# your code\n",
        "\n",
        "nations = {}\n",
        "nameOfMinCountry = ''\n",
        "minValue = 0\n",
        "\n",
        "def mean (x1, x2):\n",
        "    m = x1 / x2\n",
        "    return m\n",
        "\n",
        "for stats in info:\n",
        "    name = stats[0]\n",
        "    year = stats[1]\n",
        "    cost = stats[2]\n",
        "    if name not in nations.keys():\n",
        "        nations[name] = [1, cost]\n",
        "    else:\n",
        "        nations[name][1] += cost\n",
        "        nations[name][0] += 1\n",
        "\n",
        "for key in nations:\n",
        "    nations[key].append(mean(nations[key][1], nations[key][0]))\n",
        "\n",
        "for n,m in nations.items():\n",
        "    if m[2] <= minValue:\n",
        "        nameOfMinCountry = n\n",
        "        minValue = m[2]\n",
        "\n",
        "print('The country with the minimum mean inflation rate is: ', nameOfMinCountry, ' with a mean inflation of ', minValue, '.', sep = '')\n"
      ],
      "execution_count": 364,
      "outputs": [
        {
          "output_type": "stream",
          "name": "stdout",
          "text": [
            "The country with the minimum mean inflation rate is: GRC with a mean inflation of -0.014751480000000016.\n"
          ]
        }
      ]
    },
    {
      "cell_type": "markdown",
      "metadata": {
        "id": "srIzF7eJYUAW"
      },
      "source": [
        "## 25 points - Q3: Transposing a List of Lists\n",
        "\n",
        "List/array reshaping is one of the most fundamental operations in data manipulation. In the figure below, you see a 4x3 dimensional list of lists (a list that contains lists) named `arr` that has integers from 1 to 12. We can take the transpose of this 4x3 list and transform it into a 3x4 list. \n",
        "\n",
        "![](https://i.ibb.co/K7CXTZX/Q3-transposed.png)\n",
        "\n",
        "By referencing the figure above, write a function named `transpose` which will take the transpose of the desired matrix. At the end, it should return the resulting matrix.\n",
        "\n",
        "```py\n",
        ">>> arr = [[1, 2, 3, 4], [5, 6, 7, 8], [9, 10, 11, 12]]\n",
        ">>> transpose(arr)\n",
        "[[1, 5, 9], [2, 6, 10], [3, 7, 11], [4, 8, 12]]\n",
        "```\n",
        "\n",
        "If the given list of lists does not represent a proper matrix (e.g., [[1,2], [3,4,5]] then, it should return \"Not a proper matrix\"\n",
        "\n",
        "```py\n",
        ">>> arr = [[1, 2, 3], [5, 6]]\n",
        ">>> transpose(arr)\n",
        "\"Not a proper matrix\"\n",
        "```"
      ]
    },
    {
      "cell_type": "code",
      "metadata": {
        "id": "iZgKbmvbZM61",
        "colab": {
          "base_uri": "https://localhost:8080/"
        },
        "outputId": "20d7be47-8b81-48b6-800b-d0578cd03ddf"
      },
      "source": [
        "arr = [[1, 2, 3, 4], [5, 6, 7, 8], [9, 10, 11, 12]]\n",
        "# your code\n",
        "#arr = [[1, 2, 3], [5, 6]]\n",
        "def transpose(matrix):\n",
        "    size = len(matrix[0])\n",
        "    for row in matrix:\n",
        "        if size != len(row):\n",
        "            return print('\"Not a proper matrix\"') \n",
        "    else:\n",
        "        Transposed_arr = []\n",
        "        for j in range(len(matrix[0])):\n",
        "            tmp = []\n",
        "            for k in range(len(matrix)):\n",
        "                tmp.append(matrix[k][j])\n",
        "            Transposed_arr.append(tmp)\n",
        "        return Transposed_arr\n",
        "\n",
        "transpose(arr)"
      ],
      "execution_count": 248,
      "outputs": [
        {
          "output_type": "execute_result",
          "data": {
            "text/plain": [
              "[[1, 5, 9], [2, 6, 10], [3, 7, 11], [4, 8, 12]]"
            ]
          },
          "metadata": {},
          "execution_count": 248
        }
      ]
    },
    {
      "cell_type": "markdown",
      "metadata": {
        "id": "_0FzjI4Li18J"
      },
      "source": [
        "## 30 points - Q4: Most Frequent Bigram in a File\n",
        "\n",
        "`A pair of consecutive written words is called a bigram. For instance, if we were to find the bigrams in the sentence \"The quick brown fox jumps over the lazy dog.\", we would get [\"The quick\", \"quick brown\", \"brown fox\", ... \"the lazy\", \"lazy dog.\"]`\n",
        "\n",
        "In the assignment folder, you have a file named `best_song.txt` which stores the lyrics to the best song ever written by anyone:\n",
        "https://i.ibb.co/cb4B8sy/best-song.jpg\n",
        "\n",
        "Write a function named `most_used_bigram` which will take a file name as its single parameter and then reads and returns the **most frequently used bigram** and **how many times it has occurred** in the text.\n",
        "\n",
        "```py\n",
        ">>> most_used, times_used = most_used_bigram(\"best_song.txt\")\n",
        "```\n",
        "\n",
        "*Do not forget to add the shared file and then mount to your drive. Otherwise, you won't be able to read the file.*"
      ]
    },
    {
      "cell_type": "code",
      "metadata": {
        "id": "DEQOU3viZAfj",
        "colab": {
          "base_uri": "https://localhost:8080/"
        },
        "outputId": "c45e116b-ad15-4e9b-d255-fc82945699f7"
      },
      "source": [
        "# Your code\n",
        "\n",
        "def most_used_biagram(fname):\n",
        "   # read and print the whole content of the file\n",
        "    from os.path import join\n",
        "    txt = ''\n",
        "    with open(join(path_prefix, fname), \"r\") as f:\n",
        "        #print(f.read())\n",
        "        txt = f.read().replace('\\n', ' ')\n",
        "    # file has been readed and transferred txt successfully\n",
        "    \n",
        "    times_used = 0\n",
        "    most_used = ''\n",
        "    words = txt.split(' ') \n",
        "    \n",
        "    for j in range(len(words)-1):\n",
        "        pairing = words[j] + ' '+ words[j+1] \n",
        "        if txt.count(pairing) >= times_used: \n",
        "            most_used = pairing\n",
        "            times_used = txt.count(pairing)\n",
        "    return print('\"',most_used,'\"',  ', ', times_used, sep = '')\n",
        "    \n",
        "most_used_biagram('best_song.txt')"
      ],
      "execution_count": 247,
      "outputs": [
        {
          "output_type": "stream",
          "name": "stdout",
          "text": [
            "\"Never gonna\", 36\n"
          ]
        }
      ]
    }
  ]
}